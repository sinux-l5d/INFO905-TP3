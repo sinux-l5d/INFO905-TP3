{
 "cells": [
  {
   "cell_type": "markdown",
   "metadata": {},
   "source": [
    "# TP de Machine Learning : Classification de Fruits avec K-Means"
   ]
  },
  {
   "cell_type": "code",
   "execution_count": 13,
   "metadata": {},
   "outputs": [
    {
     "ename": "TypeError",
     "evalue": "unsupported operand type(s) for +: 'int' and 'Image'",
     "output_type": "error",
     "traceback": [
      "\u001b[0;31m---------------------------------------------------------------------------\u001b[0m",
      "\u001b[0;31mTypeError\u001b[0m                                 Traceback (most recent call last)",
      "\u001b[1;32m/home/sinux/local/repos/USMB/INFO905-TP3/tp.ipynb Cellule 2\u001b[0m line \u001b[0;36m2\n\u001b[1;32m     <a href='vscode-notebook-cell:/home/sinux/local/repos/USMB/INFO905-TP3/tp.ipynb#W1sZmlsZQ%3D%3D?line=11'>12</a>\u001b[0m     \u001b[39mreturn\u001b[39;00m [Image\n\u001b[1;32m     <a href='vscode-notebook-cell:/home/sinux/local/repos/USMB/INFO905-TP3/tp.ipynb#W1sZmlsZQ%3D%3D?line=12'>13</a>\u001b[0m             \u001b[39m.\u001b[39mopen(f)\n\u001b[1;32m     <a href='vscode-notebook-cell:/home/sinux/local/repos/USMB/INFO905-TP3/tp.ipynb#W1sZmlsZQ%3D%3D?line=13'>14</a>\u001b[0m             \u001b[39m.\u001b[39mconvert(\u001b[39m\"\u001b[39m\u001b[39mRGB\u001b[39m\u001b[39m\"\u001b[39m)\n\u001b[1;32m     <a href='vscode-notebook-cell:/home/sinux/local/repos/USMB/INFO905-TP3/tp.ipynb#W1sZmlsZQ%3D%3D?line=14'>15</a>\u001b[0m             \u001b[39m.\u001b[39mresize((\u001b[39m100\u001b[39m,\u001b[39m100\u001b[39m))\n\u001b[1;32m     <a href='vscode-notebook-cell:/home/sinux/local/repos/USMB/INFO905-TP3/tp.ipynb#W1sZmlsZQ%3D%3D?line=15'>16</a>\u001b[0m             \u001b[39mfor\u001b[39;00m f \u001b[39min\u001b[39;00m choices(files, k\u001b[39m=\u001b[39mnb_images)]\n\u001b[1;32m     <a href='vscode-notebook-cell:/home/sinux/local/repos/USMB/INFO905-TP3/tp.ipynb#W1sZmlsZQ%3D%3D?line=18'>19</a>\u001b[0m imgs \u001b[39m=\u001b[39m take(\u001b[39m10\u001b[39m)\n\u001b[0;32m---> <a href='vscode-notebook-cell:/home/sinux/local/repos/USMB/INFO905-TP3/tp.ipynb#W1sZmlsZQ%3D%3D?line=19'>20</a>\u001b[0m \u001b[39msum\u001b[39;49m(imgs)\n\u001b[1;32m     <a href='vscode-notebook-cell:/home/sinux/local/repos/USMB/INFO905-TP3/tp.ipynb#W1sZmlsZQ%3D%3D?line=20'>21</a>\u001b[0m \u001b[39m# for img in imgs:\u001b[39;00m\n\u001b[1;32m     <a href='vscode-notebook-cell:/home/sinux/local/repos/USMB/INFO905-TP3/tp.ipynb#W1sZmlsZQ%3D%3D?line=21'>22</a>\u001b[0m \u001b[39m#     display(img)\u001b[39;00m\n\u001b[1;32m     <a href='vscode-notebook-cell:/home/sinux/local/repos/USMB/INFO905-TP3/tp.ipynb#W1sZmlsZQ%3D%3D?line=22'>23</a>\u001b[0m     \u001b[39m# print(img.size)\u001b[39;00m\n",
      "\u001b[0;31mTypeError\u001b[0m: unsupported operand type(s) for +: 'int' and 'Image'"
     ]
    }
   ],
   "source": [
    "from PIL import Image\n",
    "from os import listdir\n",
    "from os.path import isfile, join\n",
    "from random import choices\n",
    "import matplotlib.pyplot as plt\n",
    "from IPython.display import display\n",
    "\n",
    "DATASET_DIR = \"./fruits\"\n",
    "\n",
    "def take(nb_images: int): \n",
    "    files = [join(DATASET_DIR,f) for f in listdir(DATASET_DIR) if isfile(join(DATASET_DIR, f))]\n",
    "    return [Image\n",
    "            .open(f)\n",
    "            .convert(\"RGB\")\n",
    "            .resize((100,100))\n",
    "            for f in choices(files, k=nb_images)]\n",
    "\n",
    "\n",
    "imgs = take(10)"
   ]
  }
 ],
 "metadata": {
  "kernelspec": {
   "display_name": "info905-tp3-NiO5J0R7-py3.11",
   "language": "python",
   "name": "python3"
  },
  "language_info": {
   "codemirror_mode": {
    "name": "ipython",
    "version": 3
   },
   "file_extension": ".py",
   "mimetype": "text/x-python",
   "name": "python",
   "nbconvert_exporter": "python",
   "pygments_lexer": "ipython3",
   "version": "3.11.6"
  }
 },
 "nbformat": 4,
 "nbformat_minor": 2
}
